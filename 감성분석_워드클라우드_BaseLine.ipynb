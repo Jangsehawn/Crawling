{
  "nbformat": 4,
  "nbformat_minor": 0,
  "metadata": {
    "colab": {
      "name": "감성분석_워드클라우드_BaseLine",
      "provenance": [],
      "collapsed_sections": []
    },
    "kernelspec": {
      "name": "python3",
      "display_name": "Python 3"
    },
    "language_info": {
      "name": "python"
    }
  },
  "cells": [
    {
      "cell_type": "markdown",
      "metadata": {
        "id": "g3vt0tJaTZNA"
      },
      "source": [
        "# SNS 트렌드 분석 베이스라인\n",
        "## 1) 불용어 처리 \n",
        "## 2) 품사태깅 \n",
        "## 3) 감성분류 \n",
        "## 4) 워드 클라우드 생성 "
      ]
    },
    {
      "cell_type": "code",
      "metadata": {
        "colab": {
          "base_uri": "https://localhost:8080/"
        },
        "id": "pG9Ziytl43Y5",
        "outputId": "5449dea2-81aa-43e4-b405-d7b5ca191013"
      },
      "source": [
        "from google.colab import drive\n",
        "\n",
        "drive.mount('/content/drive')\n"
      ],
      "execution_count": 1,
      "outputs": [
        {
          "output_type": "stream",
          "name": "stdout",
          "text": [
            "Mounted at /content/drive\n"
          ]
        }
      ]
    },
    {
      "cell_type": "code",
      "metadata": {
        "colab": {
          "base_uri": "https://localhost:8080/"
        },
        "id": "K_YoOJ3f4_sl",
        "outputId": "95b3d772-46eb-4be4-f247-bd979ec13394"
      },
      "source": [
        "import nltk\n",
        "nltk.download('punkt')\n"
      ],
      "execution_count": 2,
      "outputs": [
        {
          "output_type": "stream",
          "name": "stdout",
          "text": [
            "[nltk_data] Downloading package punkt to /root/nltk_data...\n",
            "[nltk_data]   Unzipping tokenizers/punkt.zip.\n"
          ]
        },
        {
          "output_type": "execute_result",
          "data": {
            "text/plain": [
              "True"
            ]
          },
          "metadata": {},
          "execution_count": 2
        }
      ]
    },
    {
      "cell_type": "code",
      "metadata": {
        "id": "YwNugB564_vE"
      },
      "source": [
        "from nltk.corpus import stopwords\n",
        "from nltk.tokenize import word_tokenize\n",
        "import pandas as pd "
      ],
      "execution_count": 3,
      "outputs": []
    },
    {
      "cell_type": "code",
      "metadata": {
        "id": "aiylUjR54_xc"
      },
      "source": [
        "import os\n",
        "os.chdir('/content/drive')\n"
      ],
      "execution_count": 4,
      "outputs": []
    },
    {
      "cell_type": "markdown",
      "metadata": {
        "id": "I89ckks358X7"
      },
      "source": [
        "# 1) 불용어 처리"
      ]
    },
    {
      "cell_type": "code",
      "metadata": {
        "id": "jM0rAGmM4_zs"
      },
      "source": [
        "# 불용어 처리\n",
        "\n",
        "stopwords=open(\"/content/drive/MyDrive/한국어불용어100_.txt\",'r',encoding='UTF8')\n",
        "stop=stopwords.read()\n",
        "stop=stop.split()\n",
        "stop_list=[stop[i] for i in range(len(stop)) if i%3==0 ]\n",
        "\n",
        "#  <추가 불용어 처리>\n",
        "#stop_list=stop_list+['.','!','ㅠ','?','%','vs','ㅊ',',','/',''  ]# <- 필요없는 단어    "
      ],
      "execution_count": 6,
      "outputs": []
    },
    {
      "cell_type": "code",
      "metadata": {
        "id": "Cmf8AsE44_2F"
      },
      "source": [
        "# 불용어 처리 함수\n",
        "def stopword(word_tokenize):\n",
        "  return [w for w in word_tokenize if w not in stop_list]"
      ],
      "execution_count": 7,
      "outputs": []
    },
    {
      "cell_type": "markdown",
      "metadata": {
        "id": "2fBKNzdK6DZD"
      },
      "source": [
        "# 2) 품사태깅 함수"
      ]
    },
    {
      "cell_type": "code",
      "metadata": {
        "colab": {
          "base_uri": "https://localhost:8080/"
        },
        "id": "fa2LisUW6HPL",
        "outputId": "d20ec102-55fe-49ee-8c93-2b94e18a0c32"
      },
      "source": [
        "!pip install konlpy"
      ],
      "execution_count": 8,
      "outputs": [
        {
          "output_type": "stream",
          "name": "stdout",
          "text": [
            "Collecting konlpy\n",
            "  Downloading konlpy-0.5.2-py2.py3-none-any.whl (19.4 MB)\n",
            "\u001b[K     |████████████████████████████████| 19.4 MB 1.3 MB/s \n",
            "\u001b[?25hCollecting colorama\n",
            "  Downloading colorama-0.4.4-py2.py3-none-any.whl (16 kB)\n",
            "Requirement already satisfied: lxml>=4.1.0 in /usr/local/lib/python3.7/dist-packages (from konlpy) (4.2.6)\n",
            "Requirement already satisfied: numpy>=1.6 in /usr/local/lib/python3.7/dist-packages (from konlpy) (1.19.5)\n",
            "Collecting JPype1>=0.7.0\n",
            "  Downloading JPype1-1.3.0-cp37-cp37m-manylinux_2_5_x86_64.manylinux1_x86_64.whl (448 kB)\n",
            "\u001b[K     |████████████████████████████████| 448 kB 71.7 MB/s \n",
            "\u001b[?25hRequirement already satisfied: tweepy>=3.7.0 in /usr/local/lib/python3.7/dist-packages (from konlpy) (3.10.0)\n",
            "Collecting beautifulsoup4==4.6.0\n",
            "  Downloading beautifulsoup4-4.6.0-py3-none-any.whl (86 kB)\n",
            "\u001b[K     |████████████████████████████████| 86 kB 5.5 MB/s \n",
            "\u001b[?25hRequirement already satisfied: typing-extensions in /usr/local/lib/python3.7/dist-packages (from JPype1>=0.7.0->konlpy) (3.7.4.3)\n",
            "Requirement already satisfied: requests-oauthlib>=0.7.0 in /usr/local/lib/python3.7/dist-packages (from tweepy>=3.7.0->konlpy) (1.3.0)\n",
            "Requirement already satisfied: six>=1.10.0 in /usr/local/lib/python3.7/dist-packages (from tweepy>=3.7.0->konlpy) (1.15.0)\n",
            "Requirement already satisfied: requests[socks]>=2.11.1 in /usr/local/lib/python3.7/dist-packages (from tweepy>=3.7.0->konlpy) (2.23.0)\n",
            "Requirement already satisfied: oauthlib>=3.0.0 in /usr/local/lib/python3.7/dist-packages (from requests-oauthlib>=0.7.0->tweepy>=3.7.0->konlpy) (3.1.1)\n",
            "Requirement already satisfied: chardet<4,>=3.0.2 in /usr/local/lib/python3.7/dist-packages (from requests[socks]>=2.11.1->tweepy>=3.7.0->konlpy) (3.0.4)\n",
            "Requirement already satisfied: certifi>=2017.4.17 in /usr/local/lib/python3.7/dist-packages (from requests[socks]>=2.11.1->tweepy>=3.7.0->konlpy) (2021.5.30)\n",
            "Requirement already satisfied: idna<3,>=2.5 in /usr/local/lib/python3.7/dist-packages (from requests[socks]>=2.11.1->tweepy>=3.7.0->konlpy) (2.10)\n",
            "Requirement already satisfied: urllib3!=1.25.0,!=1.25.1,<1.26,>=1.21.1 in /usr/local/lib/python3.7/dist-packages (from requests[socks]>=2.11.1->tweepy>=3.7.0->konlpy) (1.24.3)\n",
            "Requirement already satisfied: PySocks!=1.5.7,>=1.5.6 in /usr/local/lib/python3.7/dist-packages (from requests[socks]>=2.11.1->tweepy>=3.7.0->konlpy) (1.7.1)\n",
            "Installing collected packages: JPype1, colorama, beautifulsoup4, konlpy\n",
            "  Attempting uninstall: beautifulsoup4\n",
            "    Found existing installation: beautifulsoup4 4.6.3\n",
            "    Uninstalling beautifulsoup4-4.6.3:\n",
            "      Successfully uninstalled beautifulsoup4-4.6.3\n",
            "Successfully installed JPype1-1.3.0 beautifulsoup4-4.6.0 colorama-0.4.4 konlpy-0.5.2\n"
          ]
        }
      ]
    },
    {
      "cell_type": "code",
      "metadata": {
        "colab": {
          "base_uri": "https://localhost:8080/"
        },
        "id": "5K6SbcQK6HJB",
        "outputId": "1aa96a7e-2893-4a0a-9a57-71bdb2573413"
      },
      "source": [
        "!pip install collection"
      ],
      "execution_count": 9,
      "outputs": [
        {
          "output_type": "stream",
          "name": "stdout",
          "text": [
            "Collecting collection\n",
            "  Downloading collection-0.1.6.tar.gz (5.0 kB)\n",
            "Building wheels for collected packages: collection\n",
            "  Building wheel for collection (setup.py) ... \u001b[?25l\u001b[?25hdone\n",
            "  Created wheel for collection: filename=collection-0.1.6-py3-none-any.whl size=5117 sha256=3da76cf81b9fe539a11b34f3b9b699fbbb13058dba33d363de69f58b0d624c55\n",
            "  Stored in directory: /root/.cache/pip/wheels/45/ed/3c/29a1c0600bb908a2e7421dc3a3775cbaed434a71b4ed93a439\n",
            "Successfully built collection\n",
            "Installing collected packages: collection\n",
            "Successfully installed collection-0.1.6\n"
          ]
        }
      ]
    },
    {
      "cell_type": "code",
      "metadata": {
        "colab": {
          "base_uri": "https://localhost:8080/"
        },
        "id": "NzGcS4ScO63i",
        "outputId": "2c5bae45-a1d0-4a67-f2cc-f26bc463f6d2"
      },
      "source": [
        "!pip install matplotlib"
      ],
      "execution_count": 12,
      "outputs": [
        {
          "output_type": "stream",
          "name": "stdout",
          "text": [
            "Requirement already satisfied: matplotlib in /usr/local/lib/python3.7/dist-packages (3.2.2)\n",
            "Requirement already satisfied: numpy>=1.11 in /usr/local/lib/python3.7/dist-packages (from matplotlib) (1.19.5)\n",
            "Requirement already satisfied: python-dateutil>=2.1 in /usr/local/lib/python3.7/dist-packages (from matplotlib) (2.8.2)\n",
            "Requirement already satisfied: pyparsing!=2.0.4,!=2.1.2,!=2.1.6,>=2.0.1 in /usr/local/lib/python3.7/dist-packages (from matplotlib) (2.4.7)\n",
            "Requirement already satisfied: cycler>=0.10 in /usr/local/lib/python3.7/dist-packages (from matplotlib) (0.10.0)\n",
            "Requirement already satisfied: kiwisolver>=1.0.1 in /usr/local/lib/python3.7/dist-packages (from matplotlib) (1.3.2)\n",
            "Requirement already satisfied: six in /usr/local/lib/python3.7/dist-packages (from cycler>=0.10->matplotlib) (1.15.0)\n"
          ]
        }
      ]
    },
    {
      "cell_type": "code",
      "metadata": {
        "colab": {
          "base_uri": "https://localhost:8080/"
        },
        "id": "xVNgfR-aPAzY",
        "outputId": "f5fef5b7-b872-4f13-bdc3-847053ea76f4"
      },
      "source": [
        "!pip install wordcloud"
      ],
      "execution_count": 13,
      "outputs": [
        {
          "output_type": "stream",
          "name": "stdout",
          "text": [
            "Requirement already satisfied: wordcloud in /usr/local/lib/python3.7/dist-packages (1.5.0)\n",
            "Requirement already satisfied: numpy>=1.6.1 in /usr/local/lib/python3.7/dist-packages (from wordcloud) (1.19.5)\n",
            "Requirement already satisfied: pillow in /usr/local/lib/python3.7/dist-packages (from wordcloud) (7.1.2)\n"
          ]
        }
      ]
    },
    {
      "cell_type": "code",
      "metadata": {
        "id": "P2bPCfUe4_4U"
      },
      "source": [
        "from konlpy.tag import Okt\n",
        "from collections import Counter\n",
        "from wordcloud import WordCloud\n",
        "import matplotlib.pyplot as plt\n",
        "import matplotlib.font_manager as fm\n",
        "import pandas as pd\n"
      ],
      "execution_count": 36,
      "outputs": []
    },
    {
      "cell_type": "code",
      "metadata": {
        "id": "NxDuZLmdTGrY"
      },
      "source": [
        "# 품사태깅 함수 \n",
        "# 인풋 : 데이터 프레임 형태로 행별로 글들이 담겨있는 형태\n",
        "\n",
        "# 병렬처리 적용하기*****************************************************************************\n",
        "\n",
        "def part_tagging(data):\n",
        "  from konlpy.tag import Okt\n",
        "\n",
        "  Okt = Okt()\n",
        "  morphs=[]\n",
        "\n",
        "  for sentence in data:\n",
        "    for x in sentence:\n",
        "      morphs.append(Okt.pos(x))\n",
        "\n",
        "  return morphs # 품사 태깅해서 하나의 리스트형태로 반환"
      ],
      "execution_count": 25,
      "outputs": []
    },
    {
      "cell_type": "code",
      "metadata": {
        "id": "m491K0mtUlwU"
      },
      "source": [
        ""
      ],
      "execution_count": null,
      "outputs": []
    },
    {
      "cell_type": "markdown",
      "metadata": {
        "id": "ZuIDKf2HYpvm"
      },
      "source": [
        "# 3) 감성 분류"
      ]
    },
    {
      "cell_type": "code",
      "metadata": {
        "id": "lFe6iDw8Z8j3"
      },
      "source": [
        ""
      ],
      "execution_count": null,
      "outputs": []
    },
    {
      "cell_type": "markdown",
      "metadata": {
        "id": "kYaFMJQxkPvu"
      },
      "source": [
        "# 4) 워드클라우드 생성"
      ]
    },
    {
      "cell_type": "code",
      "metadata": {
        "id": "w1F_p7ZvZ8hX"
      },
      "source": [
        "# 리스트 형태로 받아서 워드 클라우드, 단어별 개수 출력\n",
        "\n",
        "def cloud(data): \n",
        "  # 단어별 개수세기 \n",
        "  counts = Counter(data)\n",
        "  tags = counts.most_common(40)\n",
        "\n",
        "  # 워드 클라우드 생성\n",
        "  wc = WordCloud(font_path=\"/content/drive/MyDrive/NanumGothic.ttf\",background_color=\"white\", max_font_size=60)\n",
        "  cloud = wc.generate_from_frequencies(dict(tags))\n",
        "  return cloud, pd.DataFrame(tags)"
      ],
      "execution_count": 45,
      "outputs": []
    },
    {
      "cell_type": "code",
      "metadata": {
        "id": "J8O3VlEYUloa"
      },
      "source": [
        ""
      ],
      "execution_count": null,
      "outputs": []
    },
    {
      "cell_type": "code",
      "metadata": {
        "id": "zvME7tXXUll3"
      },
      "source": [
        ""
      ],
      "execution_count": null,
      "outputs": []
    },
    {
      "cell_type": "code",
      "metadata": {
        "id": "nR-iRpvfUlSo"
      },
      "source": [
        ""
      ],
      "execution_count": null,
      "outputs": []
    },
    {
      "cell_type": "code",
      "metadata": {
        "id": "QhmrqwKn4_80"
      },
      "source": [
        "# 통합 함수 프로토 타입 \n",
        "def word_cloud(data):\n",
        "  from konlpy.tag import Okt\n",
        "\n",
        "  Okt = Okt()\n",
        "  # 인덱싱 reset, na값 제거 \n",
        "  data=data.reset_index(drop=True).dropna(axis=0)\n",
        "\n",
        " \n",
        "  token_list =[]\n",
        "  # 문장을 토큰화 하고 불용어 처리 \n",
        "  for i in data:\n",
        "    token_list.append(stopword(word_tokenize(i)))\n",
        "\n",
        "  # 품사 태깅\n",
        "  morphs=[]\n",
        "\n",
        "  for sentence in token_list:\n",
        "    for i in range(len(sentence)):\n",
        "      morphs.append(Okt.pos(sentence[i]))\n",
        "\n",
        "  ## 명사길이가 1이상인 것만 추가\n",
        "  noun_list=[]\n",
        "  for sentence in morphs:\n",
        "    for word, tag in sentence :\n",
        "      if tag in ['Noun'] and len(word) > 1:\n",
        "        noun_list.append(word)\n",
        "\n",
        "  # 단어별 개수세기 \n",
        "  counts = Counter(noun_list)\n",
        "  tags = counts.most_common(40)\n",
        "\n",
        "  # 워드 클라우드 생성\n",
        "  wc = WordCloud(font_path=\"/content/drive/MyDrive/NanumGothic.ttf\",background_color=\"white\", max_font_size=60)\n",
        "  cloud = wc.generate_from_frequencies(dict(tags))\n",
        "  return cloud\n",
        "  #cloud.to_file('/content/drive/MyDrive/wheelchair_travel.jpg')\n",
        "  #pd.DataFrame(tags)[0:10]"
      ],
      "execution_count": 18,
      "outputs": []
    },
    {
      "cell_type": "code",
      "metadata": {
        "colab": {
          "base_uri": "https://localhost:8080/",
          "height": 237
        },
        "id": "OIvgnh1VRpkf",
        "outputId": "0018dd02-9169-4a12-cceb-307290f7ded2"
      },
      "source": [
        "# 프로토 타입 함수 테스트 \n",
        "import pandas as pd\n",
        "\n",
        "sample = pd.read_csv(\"/content/drive/MyDrive/sns_crawling.csv\", encoding = \"utf-8\")\n",
        "\n",
        "\n",
        "plt.imshow(word_cloud(sample[(sample['keyword']=='무장애여행')]['content']))"
      ],
      "execution_count": 22,
      "outputs": [
        {
          "output_type": "execute_result",
          "data": {
            "text/plain": [
              "<matplotlib.image.AxesImage at 0x7fd5d3296b90>"
            ]
          },
          "metadata": {},
          "execution_count": 22
        },
        {
          "output_type": "display_data",
          "data": {
            "image/png": "[encoded data removed]",
            "text/plain": [
              "<Figure size 432x288 with 1 Axes>"
            ]
          },
          "metadata": {
            "needs_background": "light"
          }
        }
      ]
    },
    {
      "cell_type": "code",
      "metadata": {
        "id": "f_G_wdhzjcAE"
      },
      "source": [
        ""
      ],
      "execution_count": null,
      "outputs": []
    },
    {
      "cell_type": "code",
      "metadata": {
        "id": "JzbQN97Ljb9l"
      },
      "source": [
        ""
      ],
      "execution_count": null,
      "outputs": []
    },
    {
      "cell_type": "code",
      "metadata": {
        "id": "DSukxpP3jb7Q"
      },
      "source": [
        ""
      ],
      "execution_count": null,
      "outputs": []
    },
    {
      "cell_type": "code",
      "metadata": {
        "id": "p6yYorOZjb49"
      },
      "source": [
        ""
      ],
      "execution_count": null,
      "outputs": []
    },
    {
      "cell_type": "code",
      "metadata": {
        "id": "ivrZ-QcBjb2r"
      },
      "source": [
        ""
      ],
      "execution_count": null,
      "outputs": []
    },
    {
      "cell_type": "code",
      "metadata": {
        "id": "iHhIw3GkZ8q4"
      },
      "source": [
        "# 품사구분, 기능함수화한 함수 \n",
        "\n",
        "# 명사= 'Noun', 동사= 'Verb', 형용사 = 'Adjective'\n",
        "# new_word_cloud(data,'Noun')\n",
        "def poomsa_word_cloud(data,poomsa):\n",
        "\n",
        "  # 인덱싱 reset, na값 제거 \n",
        "  data=data.reset_index(drop=True).dropna(axis=0)\n",
        "\n",
        "  # 문장을 토큰화 하고 불용어 처리 \n",
        "  token_list =[stopword(word_tokenize(i)) for x in data ]\n",
        "\n",
        "  # 품사 태깅 -> Okt에서 800 자 제한이 있어 800자씩 나누어 품사처리후 morphs에 append\n",
        "  morphs=[part_tagging(token_list[i*800:(i+1)*800]) for i in range((len(token_list)//800)-1) ]\n",
        "\n",
        "  ## 설정한 품사 길이가 1이상인 것만 추가\n",
        "  noun_list=[ word for sentence in morphs  for word, tag in sentence  if tag in [poomsa] and len(word) > 1 ]\n",
        "\n",
        "  # 클라우드, 단어별 개수 반환\n",
        "  return cloud(noun_list)"
      ],
      "execution_count": 46,
      "outputs": []
    },
    {
      "cell_type": "code",
      "metadata": {
        "id": "5Ta2GVa3jjGV"
      },
      "source": [
        "# 프로토 타입 함수 테스트 \n",
        "import pandas as pd\n",
        "\n",
        "sample = pd.read_csv(\"/content/drive/MyDrive/sns_crawling.csv\", encoding = \"utf-8\")\n",
        "\n",
        "# 동사, 개수 출력\n",
        "\n",
        "word_image, word_count = poomsa_word_cloud(sample[(sample['keyword']=='무장애여행')]['content'],'Verb' )\n",
        "\n",
        "# 워드 클라우드 이미지\n",
        "plt.imshow(word_image)\n",
        "\n",
        "# 단어별 빈도수 출력 \n",
        "word_count"
      ],
      "execution_count": null,
      "outputs": []
    },
    {
      "cell_type": "code",
      "metadata": {
        "id": "cFmvRb72QbB4"
      },
      "source": [
        ""
      ],
      "execution_count": null,
      "outputs": []
    }
  ]
}