{
  "nbformat": 4,
  "nbformat_minor": 0,
  "metadata": {
    "colab": {
      "name": "품사태그해서 워드클라우드 만들기_한글폰트적용.ipynb",
      "provenance": []
    },
    "kernelspec": {
      "name": "python3",
      "display_name": "Python 3"
    },
    "language_info": {
      "name": "python"
    }
  },
  "cells": [
    {
      "cell_type": "code",
      "metadata": {
        "colab": {
          "base_uri": "https://localhost:8080/"
        },
        "id": "mFJDvUjVTXgn",
        "outputId": "37ba7644-3013-48c6-a8ac-26ca2e844554"
      },
      "source": [
        "from google.colab import drive\n",
        "\n",
        "drive.mount('/content/drive')"
      ],
      "execution_count": 1,
      "outputs": [
        {
          "output_type": "stream",
          "name": "stdout",
          "text": [
            "Mounted at /content/drive\n"
          ]
        }
      ]
    },
    {
      "cell_type": "code",
      "metadata": {
        "colab": {
          "base_uri": "https://localhost:8080/"
        },
        "id": "RYd6DjN-TYdO",
        "outputId": "5b584ef1-76c6-40e2-82b2-c60ad73a6fb7"
      },
      "source": [
        "import nltk\n",
        "nltk.download('punkt')"
      ],
      "execution_count": 51,
      "outputs": [
        {
          "output_type": "stream",
          "name": "stdout",
          "text": [
            "[nltk_data] Downloading package punkt to /root/nltk_data...\n",
            "[nltk_data]   Package punkt is already up-to-date!\n"
          ]
        },
        {
          "output_type": "execute_result",
          "data": {
            "text/plain": [
              "True"
            ]
          },
          "metadata": {},
          "execution_count": 51
        }
      ]
    },
    {
      "cell_type": "code",
      "metadata": {
        "id": "9Zhx9vXuTYgI"
      },
      "source": [
        "from nltk.corpus import stopwords\n",
        "from nltk.tokenize import word_tokenize"
      ],
      "execution_count": 52,
      "outputs": []
    },
    {
      "cell_type": "code",
      "metadata": {
        "id": "qH6AEjKaa4s8"
      },
      "source": [
        "import os\n",
        "os.chdir('/content/drive')"
      ],
      "execution_count": 53,
      "outputs": []
    },
    {
      "cell_type": "code",
      "metadata": {
        "id": "zbvU7JHRTYil"
      },
      "source": [
        "stopwords=open(\"/content/drive/MyDrive/한국어불용어100_.txt\",'r',encoding='UTF8')"
      ],
      "execution_count": 54,
      "outputs": []
    },
    {
      "cell_type": "code",
      "metadata": {
        "id": "LqJCVPIxTYlD"
      },
      "source": [
        "stop=stopwords.read()"
      ],
      "execution_count": 55,
      "outputs": []
    },
    {
      "cell_type": "code",
      "metadata": {
        "id": "J_n8MDlFTYqZ"
      },
      "source": [
        "stop=stop.split()\n",
        "stop_list=[]\n",
        "for i in range(len(stop)):\n",
        "  if i%3==0:\n",
        "    stop_list.append(stop[i])"
      ],
      "execution_count": 56,
      "outputs": []
    },
    {
      "cell_type": "code",
      "metadata": {
        "colab": {
          "base_uri": "https://localhost:8080/"
        },
        "id": "nkibj4yVTYsn",
        "outputId": "68d6b165-6dc6-416b-af20-e983c4b75c79"
      },
      "source": [
        "stop_list"
      ],
      "execution_count": 22,
      "outputs": [
        {
          "output_type": "execute_result",
          "data": {
            "text/plain": [
              "['이',\n",
              " '있',\n",
              " '하',\n",
              " '것',\n",
              " '들',\n",
              " '그',\n",
              " '되',\n",
              " '수',\n",
              " '이',\n",
              " '보',\n",
              " '않',\n",
              " '없',\n",
              " '나',\n",
              " '사람',\n",
              " '주',\n",
              " '아니',\n",
              " '등',\n",
              " '같',\n",
              " '우리',\n",
              " '때',\n",
              " '년',\n",
              " '가',\n",
              " '한',\n",
              " '지',\n",
              " '대하',\n",
              " '오',\n",
              " '말',\n",
              " '일',\n",
              " '그렇',\n",
              " '위하',\n",
              " '때문',\n",
              " '그것',\n",
              " '두',\n",
              " '말하',\n",
              " '알',\n",
              " '그러나',\n",
              " '받',\n",
              " '못하',\n",
              " '일',\n",
              " '그런',\n",
              " '또',\n",
              " '문제',\n",
              " '더',\n",
              " '사회',\n",
              " '많',\n",
              " '그리고',\n",
              " '좋',\n",
              " '크',\n",
              " '따르',\n",
              " '중',\n",
              " '나오',\n",
              " '가지',\n",
              " '씨',\n",
              " '시키',\n",
              " '만들',\n",
              " '지금',\n",
              " '생각하',\n",
              " '그러',\n",
              " '속',\n",
              " '하나',\n",
              " '집',\n",
              " '살',\n",
              " '모르',\n",
              " '적',\n",
              " '월',\n",
              " '데',\n",
              " '자신',\n",
              " '안',\n",
              " '어떤',\n",
              " '내',\n",
              " '내',\n",
              " '경우',\n",
              " '명',\n",
              " '생각',\n",
              " '시간',\n",
              " '그녀',\n",
              " '다시',\n",
              " '이런',\n",
              " '앞',\n",
              " '보이',\n",
              " '번',\n",
              " '나',\n",
              " '다른',\n",
              " '어떻',\n",
              " '여자',\n",
              " '개',\n",
              " '전',\n",
              " '들',\n",
              " '사실',\n",
              " '이렇',\n",
              " '점',\n",
              " '싶',\n",
              " '말',\n",
              " '정도',\n",
              " '좀',\n",
              " '원',\n",
              " '잘',\n",
              " '통하',\n",
              " '소리',\n",
              " '놓']"
            ]
          },
          "metadata": {},
          "execution_count": 22
        }
      ]
    },
    {
      "cell_type": "code",
      "metadata": {
        "id": "3LA1vJsvTYvt"
      },
      "source": [
        "## <추가 불용어 처리>\n",
        "stop_list=stop_list+['.','!','ㅠ','?','%','vs','ㅊ',',','/']# <- 필요없는 단어 추가"
      ],
      "execution_count": 57,
      "outputs": []
    },
    {
      "cell_type": "code",
      "metadata": {
        "id": "gLlaGkBGeol0"
      },
      "source": [
        "def stopword(word_tokenize):\n",
        "  test=[]\n",
        "  for w in word_tokenize:\n",
        "    if w not in stop_list:\n",
        "      test.append(w)\n",
        "  return test"
      ],
      "execution_count": 58,
      "outputs": []
    },
    {
      "cell_type": "code",
      "metadata": {
        "id": "evg3Gm8HTYyl"
      },
      "source": [
        "test= '저희는 대구 동구에서 토지, 공장, 창고 매매, 임대관리를 전문으로하는 부동산 회사입니다. 이번에 사무실을 신축하여 이전을 준비중입니다. 주 고객의 연령층은 40대~이상 까지이며 건물의 외장은 은회색 ...'"
      ],
      "execution_count": 59,
      "outputs": []
    },
    {
      "cell_type": "code",
      "metadata": {
        "colab": {
          "base_uri": "https://localhost:8080/"
        },
        "id": "EXrIlccuTY10",
        "outputId": "cb7e12a9-b85e-4243-b355-f80919582080"
      },
      "source": [
        "word_tokenize(test)"
      ],
      "execution_count": 60,
      "outputs": [
        {
          "output_type": "execute_result",
          "data": {
            "text/plain": [
              "['저희는',\n",
              " '대구',\n",
              " '동구에서',\n",
              " '토지',\n",
              " ',',\n",
              " '공장',\n",
              " ',',\n",
              " '창고',\n",
              " '매매',\n",
              " ',',\n",
              " '임대관리를',\n",
              " '전문으로하는',\n",
              " '부동산',\n",
              " '회사입니다',\n",
              " '.',\n",
              " '이번에',\n",
              " '사무실을',\n",
              " '신축하여',\n",
              " '이전을',\n",
              " '준비중입니다',\n",
              " '.',\n",
              " '주',\n",
              " '고객의',\n",
              " '연령층은',\n",
              " '40대~이상',\n",
              " '까지이며',\n",
              " '건물의',\n",
              " '외장은',\n",
              " '은회색',\n",
              " '...']"
            ]
          },
          "metadata": {},
          "execution_count": 60
        }
      ]
    },
    {
      "cell_type": "code",
      "metadata": {
        "colab": {
          "base_uri": "https://localhost:8080/"
        },
        "id": "lqe1189DczSk",
        "outputId": "986a0914-e333-4fb6-ca9b-2d3087967f2d"
      },
      "source": [
        "stopword(word_tokenize(test))"
      ],
      "execution_count": 61,
      "outputs": [
        {
          "output_type": "execute_result",
          "data": {
            "text/plain": [
              "['저희는',\n",
              " '대구',\n",
              " '동구에서',\n",
              " '토지',\n",
              " '공장',\n",
              " '창고',\n",
              " '매매',\n",
              " '임대관리를',\n",
              " '전문으로하는',\n",
              " '부동산',\n",
              " '회사입니다',\n",
              " '이번에',\n",
              " '사무실을',\n",
              " '신축하여',\n",
              " '이전을',\n",
              " '준비중입니다',\n",
              " '고객의',\n",
              " '연령층은',\n",
              " '40대~이상',\n",
              " '까지이며',\n",
              " '건물의',\n",
              " '외장은',\n",
              " '은회색',\n",
              " '...']"
            ]
          },
          "metadata": {},
          "execution_count": 61
        }
      ]
    },
    {
      "cell_type": "markdown",
      "metadata": {
        "id": "mDOc-HvdfYYQ"
      },
      "source": [
        ""
      ]
    },
    {
      "cell_type": "code",
      "metadata": {
        "id": "7jtPawG4czQJ"
      },
      "source": [
        "## 명사, 형용사, 부사등 형태소 태그붙여줌"
      ],
      "execution_count": null,
      "outputs": []
    },
    {
      "cell_type": "code",
      "metadata": {
        "colab": {
          "base_uri": "https://localhost:8080/"
        },
        "id": "p2BvgxtYczN0",
        "outputId": "a962703d-bd9a-43b9-c92a-8fff271264fe"
      },
      "source": [
        "!pip install konlpy"
      ],
      "execution_count": 62,
      "outputs": [
        {
          "output_type": "stream",
          "name": "stdout",
          "text": [
            "Requirement already satisfied: konlpy in /usr/local/lib/python3.7/dist-packages (0.5.2)\n",
            "Requirement already satisfied: beautifulsoup4==4.6.0 in /usr/local/lib/python3.7/dist-packages (from konlpy) (4.6.0)\n",
            "Requirement already satisfied: colorama in /usr/local/lib/python3.7/dist-packages (from konlpy) (0.4.4)\n",
            "Requirement already satisfied: JPype1>=0.7.0 in /usr/local/lib/python3.7/dist-packages (from konlpy) (1.3.0)\n",
            "Requirement already satisfied: tweepy>=3.7.0 in /usr/local/lib/python3.7/dist-packages (from konlpy) (3.10.0)\n",
            "Requirement already satisfied: numpy>=1.6 in /usr/local/lib/python3.7/dist-packages (from konlpy) (1.19.5)\n",
            "Requirement already satisfied: lxml>=4.1.0 in /usr/local/lib/python3.7/dist-packages (from konlpy) (4.2.6)\n",
            "Requirement already satisfied: typing-extensions in /usr/local/lib/python3.7/dist-packages (from JPype1>=0.7.0->konlpy) (3.7.4.3)\n",
            "Requirement already satisfied: requests-oauthlib>=0.7.0 in /usr/local/lib/python3.7/dist-packages (from tweepy>=3.7.0->konlpy) (1.3.0)\n",
            "Requirement already satisfied: requests[socks]>=2.11.1 in /usr/local/lib/python3.7/dist-packages (from tweepy>=3.7.0->konlpy) (2.23.0)\n",
            "Requirement already satisfied: six>=1.10.0 in /usr/local/lib/python3.7/dist-packages (from tweepy>=3.7.0->konlpy) (1.15.0)\n",
            "Requirement already satisfied: oauthlib>=3.0.0 in /usr/local/lib/python3.7/dist-packages (from requests-oauthlib>=0.7.0->tweepy>=3.7.0->konlpy) (3.1.1)\n",
            "Requirement already satisfied: certifi>=2017.4.17 in /usr/local/lib/python3.7/dist-packages (from requests[socks]>=2.11.1->tweepy>=3.7.0->konlpy) (2021.5.30)\n",
            "Requirement already satisfied: chardet<4,>=3.0.2 in /usr/local/lib/python3.7/dist-packages (from requests[socks]>=2.11.1->tweepy>=3.7.0->konlpy) (3.0.4)\n",
            "Requirement already satisfied: urllib3!=1.25.0,!=1.25.1,<1.26,>=1.21.1 in /usr/local/lib/python3.7/dist-packages (from requests[socks]>=2.11.1->tweepy>=3.7.0->konlpy) (1.24.3)\n",
            "Requirement already satisfied: idna<3,>=2.5 in /usr/local/lib/python3.7/dist-packages (from requests[socks]>=2.11.1->tweepy>=3.7.0->konlpy) (2.10)\n",
            "Requirement already satisfied: PySocks!=1.5.7,>=1.5.6 in /usr/local/lib/python3.7/dist-packages (from requests[socks]>=2.11.1->tweepy>=3.7.0->konlpy) (1.7.1)\n"
          ]
        }
      ]
    },
    {
      "cell_type": "code",
      "metadata": {
        "colab": {
          "base_uri": "https://localhost:8080/"
        },
        "id": "lmROgYUaczLq",
        "outputId": "18069a86-4c19-4c6a-a004-91b82f5902dd"
      },
      "source": [
        "!pip install collection"
      ],
      "execution_count": 63,
      "outputs": [
        {
          "output_type": "stream",
          "name": "stdout",
          "text": [
            "Requirement already satisfied: collection in /usr/local/lib/python3.7/dist-packages (0.1.6)\n"
          ]
        }
      ]
    },
    {
      "cell_type": "code",
      "metadata": {
        "id": "urFKSG7_czJK"
      },
      "source": [
        "from konlpy.tag import Okt\n",
        "from collections import Counter"
      ],
      "execution_count": 64,
      "outputs": []
    },
    {
      "cell_type": "code",
      "metadata": {
        "id": "ychnfb4Cf6sc"
      },
      "source": [
        "Okt = Okt() # -> 자바 환경변수 세팅 필요"
      ],
      "execution_count": 65,
      "outputs": []
    },
    {
      "cell_type": "code",
      "metadata": {
        "colab": {
          "base_uri": "https://localhost:8080/"
        },
        "id": "hMQUgHndf6p3",
        "outputId": "81d9bb25-6888-4852-945d-311ac8c2079a"
      },
      "source": [
        "# token list에 문장단위로 들어감\n",
        "token_list=stopword(word_tokenize(test))\n",
        "\n",
        "morphs = []\n",
        "for sentence in token_list:\n",
        "  for i in range(len(sentence)):\n",
        "    morphs.append(Okt.pos(sentence[i]))\n",
        "print(morphs)"
      ],
      "execution_count": 66,
      "outputs": [
        {
          "output_type": "stream",
          "name": "stdout",
          "text": [
            "[[('저', 'Noun')], [('희', 'Adjective')], [('는', 'Verb')], [('대', 'Verb')], [('구', 'Noun')], [('동', 'Modifier')], [('구', 'Noun')], [('에', 'Josa')], [('서', 'Verb')], [('토', 'Noun')], [('지', 'Verb')], [('공', 'Noun')], [('장', 'Noun')], [('창', 'Noun')], [('고', 'Noun')], [('매', 'Noun')], [('매', 'Noun')], [('임', 'Noun')], [('대', 'Verb')], [('관', 'Noun')], [('리', 'Noun')], [('를', 'Noun')], [('전', 'Noun')], [('문', 'Noun')], [('으', 'Adverb')], [('로', 'Noun')], [('하', 'Exclamation')], [('는', 'Verb')], [('부', 'Noun')], [('동', 'Modifier')], [('산', 'Noun')], [('회', 'Noun')], [('사', 'Noun')], [('입', 'Noun')], [('니', 'Noun')], [('다', 'Adverb')], [('이', 'Noun')], [('번', 'Noun')], [('에', 'Josa')], [('사', 'Noun')], [('무', 'Noun')], [('실', 'Noun')], [('을', 'Josa')], [('신', 'Noun')], [('축', 'Noun')], [('하', 'Exclamation')], [('여', 'Noun')], [('이', 'Noun')], [('전', 'Noun')], [('을', 'Josa')], [('준', 'Noun')], [('비', 'Noun')], [('중', 'Noun')], [('입', 'Noun')], [('니', 'Noun')], [('다', 'Adverb')], [('고', 'Noun')], [('객', 'Noun')], [('의', 'Noun')], [('연', 'Noun')], [('령', 'Noun')], [('층', 'Noun')], [('은', 'Noun')], [('4', 'Number')], [('0', 'Number')], [('대', 'Verb')], [('~', 'Punctuation')], [('이', 'Noun')], [('상', 'Noun')], [('까', 'Verb')], [('지', 'Verb')], [('이', 'Noun')], [('며', 'Noun')], [('건', 'Noun')], [('물', 'Noun')], [('의', 'Noun')], [('외', 'Noun')], [('장', 'Noun')], [('은', 'Noun')], [('은', 'Noun')], [('회', 'Noun')], [('색', 'Noun')], [('.', 'Punctuation')], [('.', 'Punctuation')], [('.', 'Punctuation')]]\n"
          ]
        }
      ]
    },
    {
      "cell_type": "code",
      "metadata": {
        "colab": {
          "base_uri": "https://localhost:8080/"
        },
        "id": "JjE0qszwo61h",
        "outputId": "80c25675-7bb0-44d0-acee-b3159210b50a"
      },
      "source": [
        "\n",
        "morphs = []\n",
        "for sentence in token_list:\n",
        "  morphs.append(Okt.pos(sentence))\n",
        "print(morphs)"
      ],
      "execution_count": 69,
      "outputs": [
        {
          "output_type": "stream",
          "name": "stdout",
          "text": [
            "[[('저희', 'Noun'), ('는', 'Josa')], [('대구', 'Noun')], [('동구', 'Noun'), ('에서', 'Josa')], [('토지', 'Noun')], [('공장', 'Noun')], [('창고', 'Noun')], [('매매', 'Noun')], [('임대', 'Noun'), ('관리', 'Noun'), ('를', 'Josa')], [('전문', 'Noun'), ('으로', 'Josa'), ('하는', 'Verb')], [('부동산', 'Noun')], [('회사', 'Noun'), ('입니다', 'Adjective')], [('이번', 'Noun'), ('에', 'Josa')], [('사무실', 'Noun'), ('을', 'Josa')], [('신축', 'Noun'), ('하여', 'Verb')], [('이전', 'Noun'), ('을', 'Josa')], [('준비', 'Noun'), ('중', 'Suffix'), ('입니다', 'Adjective')], [('고객', 'Noun'), ('의', 'Josa')], [('연령', 'Noun'), ('층', 'Noun'), ('은', 'Josa')], [('40', 'Number'), ('대', 'Verb'), ('~', 'Punctuation'), ('이상', 'Noun')], [('까지이며', 'Verb')], [('건물', 'Noun'), ('의', 'Josa')], [('외', 'Noun'), ('장', 'Suffix'), ('은', 'Josa')], [('은회색', 'Noun')], [('...', 'Punctuation')]]\n"
          ]
        }
      ]
    },
    {
      "cell_type": "code",
      "metadata": {
        "id": "UhUOI4Psf6nr"
      },
      "source": [
        "## 명사길이가 1이상인 것만 출력\n",
        "noun_list=[]\n",
        "for sentence in morphs:\n",
        "  for word, tag in sentence :\n",
        "    if tag in ['Noun'] and len(word) > 1:\n",
        "      noun_list.append(word)"
      ],
      "execution_count": 70,
      "outputs": []
    },
    {
      "cell_type": "code",
      "metadata": {
        "colab": {
          "base_uri": "https://localhost:8080/"
        },
        "id": "qXhfpVglf6lr",
        "outputId": "447c282e-7abe-4502-8b82-2d362a8bffee"
      },
      "source": [
        "noun_list"
      ],
      "execution_count": 71,
      "outputs": [
        {
          "output_type": "execute_result",
          "data": {
            "text/plain": [
              "['저희',\n",
              " '대구',\n",
              " '동구',\n",
              " '토지',\n",
              " '공장',\n",
              " '창고',\n",
              " '매매',\n",
              " '임대',\n",
              " '관리',\n",
              " '전문',\n",
              " '부동산',\n",
              " '회사',\n",
              " '이번',\n",
              " '사무실',\n",
              " '신축',\n",
              " '이전',\n",
              " '준비',\n",
              " '고객',\n",
              " '연령',\n",
              " '이상',\n",
              " '건물',\n",
              " '은회색']"
            ]
          },
          "metadata": {},
          "execution_count": 71
        }
      ]
    },
    {
      "cell_type": "code",
      "metadata": {
        "id": "vH6yYZ_vf6jG"
      },
      "source": [
        "counts = Counter(noun_list)\n",
        "tags = counts.most_common(40) "
      ],
      "execution_count": 72,
      "outputs": []
    },
    {
      "cell_type": "code",
      "metadata": {
        "colab": {
          "base_uri": "https://localhost:8080/"
        },
        "id": "oPJBu3Jup0uY",
        "outputId": "b91b424a-1f2c-49cf-be39-66c958276161"
      },
      "source": [
        "!pip install wordcloud"
      ],
      "execution_count": 81,
      "outputs": [
        {
          "output_type": "stream",
          "name": "stdout",
          "text": [
            "Requirement already satisfied: wordcloud in /usr/local/lib/python3.7/dist-packages (1.5.0)\n",
            "Requirement already satisfied: numpy>=1.6.1 in /usr/local/lib/python3.7/dist-packages (from wordcloud) (1.19.5)\n",
            "Requirement already satisfied: pillow in /usr/local/lib/python3.7/dist-packages (from wordcloud) (7.1.2)\n"
          ]
        }
      ]
    },
    {
      "cell_type": "code",
      "metadata": {
        "colab": {
          "base_uri": "https://localhost:8080/"
        },
        "id": "jMupGGfnvfJ4",
        "outputId": "f765f699-7a4c-4312-8987-ddf34f1ebe16"
      },
      "source": [
        "!pip install matplotlib"
      ],
      "execution_count": 96,
      "outputs": [
        {
          "output_type": "stream",
          "name": "stdout",
          "text": [
            "Requirement already satisfied: matplotlib in /usr/local/lib/python3.7/dist-packages (3.2.2)\n",
            "Requirement already satisfied: numpy>=1.11 in /usr/local/lib/python3.7/dist-packages (from matplotlib) (1.19.5)\n",
            "Requirement already satisfied: kiwisolver>=1.0.1 in /usr/local/lib/python3.7/dist-packages (from matplotlib) (1.3.2)\n",
            "Requirement already satisfied: pyparsing!=2.0.4,!=2.1.2,!=2.1.6,>=2.0.1 in /usr/local/lib/python3.7/dist-packages (from matplotlib) (2.4.7)\n",
            "Requirement already satisfied: cycler>=0.10 in /usr/local/lib/python3.7/dist-packages (from matplotlib) (0.10.0)\n",
            "Requirement already satisfied: python-dateutil>=2.1 in /usr/local/lib/python3.7/dist-packages (from matplotlib) (2.8.2)\n",
            "Requirement already satisfied: six in /usr/local/lib/python3.7/dist-packages (from cycler>=0.10->matplotlib) (1.15.0)\n"
          ]
        }
      ]
    },
    {
      "cell_type": "code",
      "metadata": {
        "id": "-3y0KYfPryau"
      },
      "source": [
        "from wordcloud import WordCloud\n",
        "import matplotlib.pyplot as plt\n",
        "import matplotlib.font_manager as fm"
      ],
      "execution_count": 99,
      "outputs": []
    },
    {
      "cell_type": "code",
      "metadata": {
        "colab": {
          "base_uri": "https://localhost:8080/"
        },
        "id": "8mctoTq-f6gv",
        "outputId": "645826d1-ecdd-447f-c9b8-f7f7ff5c5805"
      },
      "source": [
        "# https://creativestudio.kr/1734#google_vignette -> 여기 찾아보면 폰트들 있음\n",
        "\n",
        "font_path = '/content/drive/MyDrive/NanumGothic.ttf'\n",
        "\n",
        "wc = WordCloud(font_path=font_path, background_color=\"white\",width=2000, max_font_size=60)\n",
        "cloud = wc.generate_from_frequencies(dict(tags))\n",
        "\n",
        "\n",
        "# 생성된 WordCloud를 test.jpg로 보낸다.\n",
        "cloud.to_file('/content/drive/MyDrive/test.jpg')\n",
        "\n",
        "\n",
        "# 워드 클라우드 모양변경 \n",
        "# https://pinkwink.kr/1029"
      ],
      "execution_count": 108,
      "outputs": [
        {
          "output_type": "execute_result",
          "data": {
            "text/plain": [
              "<wordcloud.wordcloud.WordCloud at 0x7fbb830b0990>"
            ]
          },
          "metadata": {},
          "execution_count": 108
        }
      ]
    },
    {
      "cell_type": "code",
      "metadata": {
        "colab": {
          "base_uri": "https://localhost:8080/",
          "height": 108
        },
        "id": "gsgQlJdgf6eU",
        "outputId": "11eff82b-d8ac-4834-9abe-ba37744b1208"
      },
      "source": [
        "plt.figure(figsize=(20, 10))\n",
        "plt.imshow(cloud)\n",
        "# 저장 경로\n",
        "#plt.savefig(file_name, dpi=300)\n",
        "plt.axis('off')\n",
        "plt.show()"
      ],
      "execution_count": 109,
      "outputs": [
        {
          "output_type": "display_data",
          "data": {
            "image/png": "[encoded data removed]",
            "text/plain": [
              "<Figure size 1440x720 with 1 Axes>"
            ]
          },
          "metadata": {
            "needs_background": "light"
          }
        }
      ]
    },
    {
      "cell_type": "code",
      "metadata": {
        "id": "0yF1JfmXf6bt"
      },
      "source": [
        ""
      ],
      "execution_count": null,
      "outputs": []
    },
    {
      "cell_type": "code",
      "metadata": {
        "id": "Pa7R8i5uf6ZX"
      },
      "source": [
        ""
      ],
      "execution_count": null,
      "outputs": []
    },
    {
      "cell_type": "code",
      "metadata": {
        "id": "hwzJRnn7f6W_"
      },
      "source": [
        ""
      ],
      "execution_count": null,
      "outputs": []
    },
    {
      "cell_type": "code",
      "metadata": {
        "id": "35XDHRoBf6UZ"
      },
      "source": [
        ""
      ],
      "execution_count": null,
      "outputs": []
    },
    {
      "cell_type": "code",
      "metadata": {
        "id": "fZq5T_PXf6Rh"
      },
      "source": [
        ""
      ],
      "execution_count": null,
      "outputs": []
    },
    {
      "cell_type": "code",
      "metadata": {
        "id": "slME3amfczGv"
      },
      "source": [
        ""
      ],
      "execution_count": null,
      "outputs": []
    },
    {
      "cell_type": "code",
      "metadata": {
        "id": "s59QuA-AczEU"
      },
      "source": [
        ""
      ],
      "execution_count": null,
      "outputs": []
    }
  ]
}